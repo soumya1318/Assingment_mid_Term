{
 "cells": [
  {
   "cell_type": "code",
   "execution_count": 45,
   "id": "0e661ca6",
   "metadata": {},
   "outputs": [
    {
     "name": "stdout",
     "output_type": "stream",
     "text": [
      "fail\n",
      "fail\n",
      "fail\n",
      "fail\n",
      "second class\n",
      "distinction\n",
      "distinction\n",
      "distinction\n",
      "first class\n",
      "distinction\n"
     ]
    }
   ],
   "source": [
    "#Q1.\n",
    "Scores=[35,50,20,30,55,75,90,95,66,80]\n",
    "for i in Scores:\n",
    "    if i>70:\n",
    "        print(\"distinction\")\n",
    "    elif (i>60 and i<70):\n",
    "        print(\"first class\")\n",
    "    elif (i>50 and i<60):\n",
    "        print(\"second class\")\n",
    "    elif (i>35 and i<50):\n",
    "        print(\"just pass\")\n",
    "    else:\n",
    "        print(\"fail\")\n",
    "    \n"
   ]
  },
  {
   "cell_type": "code",
   "execution_count": 4,
   "id": "bff607b7",
   "metadata": {},
   "outputs": [
    {
     "name": "stdout",
     "output_type": "stream",
     "text": [
      "Python\n",
      "Web_Tech\n",
      "IT\n"
     ]
    }
   ],
   "source": [
    "#Q2.\n",
    "Book_price= {'Python':600, 'Java': 400, 'Web_Tech': 550, 'OS': 450, 'IT': 700}\n",
    "for i in Book_price:\n",
    "     if (Book_price[i]>500):\n",
    "        print(i)\n",
    "        \n",
    "    "
   ]
  },
  {
   "cell_type": "code",
   "execution_count": 5,
   "id": "d620ab45",
   "metadata": {},
   "outputs": [
    {
     "name": "stdout",
     "output_type": "stream",
     "text": [
      "[1, 4, 9, 16, 25, 36, 49]\n"
     ]
    }
   ],
   "source": [
    "#Q3.\n",
    "aList = [1, 2, 3, 4, 5, 6, 7]\n",
    "New_list=[]\n",
    "for i in aList:\n",
    "    c=i*i\n",
    "    New_list.append(c)\n",
    "print(New_list)\n",
    "    \n",
    "    "
   ]
  },
  {
   "cell_type": "code",
   "execution_count": 12,
   "id": "7605429d",
   "metadata": {},
   "outputs": [
    {
     "name": "stdout",
     "output_type": "stream",
     "text": [
      "Hello Dear\n",
      "take Dear\n",
      "\n",
      "Hello Sir\n",
      "take Sir\n",
      "\n"
     ]
    }
   ],
   "source": [
    "#Q4.\n",
    "list1 = [\"Hello \", \"take \"]\n",
    "list2 = [\"Dear\", \"Sir\"]\n",
    "for i in list2:\n",
    "    for j in list1:\n",
    "        print(j+i)\n",
    "    print()"
   ]
  },
  {
   "cell_type": "code",
   "execution_count": 19,
   "id": "114e2560",
   "metadata": {},
   "outputs": [
    {
     "name": "stdout",
     "output_type": "stream",
     "text": [
      "[500, 400, 300, 200, 100]\n"
     ]
    }
   ],
   "source": [
    "#Q5.\n",
    "aList=[100, 200, 300, 400, 500]\n",
    "aList.sort(reverse=True)\n",
    "print(aList)"
   ]
  },
  {
   "cell_type": "code",
   "execution_count": 27,
   "id": "3393a600",
   "metadata": {},
   "outputs": [
    {
     "name": "stdout",
     "output_type": "stream",
     "text": [
      "[10, 20, [300, 400, [5000, 6000, 7000], 500], 30, 40]\n"
     ]
    }
   ],
   "source": [
    "#Q6.\n",
    "list1 = [10, 20, [300, 400, [5000, 6000], 500], 30, 40]\n",
    "list1[2][2].append(7000)\n",
    "print(list1)"
   ]
  },
  {
   "cell_type": "code",
   "execution_count": 38,
   "id": "8cb1be6c",
   "metadata": {},
   "outputs": [
    {
     "name": "stdout",
     "output_type": "stream",
     "text": [
      "['a', 'b', ['c', ['d', 'e', ['f', 'g', 'h', 'i', 'j'], 'k'], 'l'], 'm', 'n']\n"
     ]
    }
   ],
   "source": [
    "#Q7.\n",
    "list1 = [\"a\", \"b\", [\"c\", [\"d\", \"e\", [\"f\", \"g\"], \"k\"], \"l\"], \"m\", \"n\"]\n",
    "l=[\"h\", \"i\", \"j\"]\n",
    "list1[2][1][2].extend(l)\n",
    "print(list1)\n"
   ]
  },
  {
   "cell_type": "code",
   "execution_count": 53,
   "id": "3d4af5f8",
   "metadata": {},
   "outputs": [
    {
     "data": {
      "text/plain": [
       "[5, 10, 15, 200, 25, 50, 20]"
      ]
     },
     "execution_count": 53,
     "metadata": {},
     "output_type": "execute_result"
    }
   ],
   "source": [
    "#Q8.\n",
    "list1 = [5, 10, 15, 20, 25, 50, 20]\n",
    "i=list1.index(20)\n",
    "list1[i]=200\n",
    "list1\n",
    "\n"
   ]
  },
  {
   "cell_type": "code",
   "execution_count": 52,
   "id": "db42202f",
   "metadata": {},
   "outputs": [
    {
     "name": "stdout",
     "output_type": "stream",
     "text": [
      "Sachin\n",
      "Rahul\n"
     ]
    }
   ],
   "source": [
    "#Q9.\n",
    "Player_game={'Sachin':'Cricket', 'Rahul': 'Cricket', 'Messi': 'Football', 'Federer': 'Tennis', 'Anand': 'Chess'}\n",
    "for i in Player_game:\n",
    "    if (Player_game[i]=='Cricket'):\n",
    "        print(i)"
   ]
  },
  {
   "cell_type": "code",
   "execution_count": 51,
   "id": "c681f5a4",
   "metadata": {},
   "outputs": [
    {
     "name": "stdout",
     "output_type": "stream",
     "text": [
      "51\n"
     ]
    }
   ],
   "source": [
    "#Q10.\n",
    "sum=0\n",
    "List1= [1,2,4,5,10,20,4,5]\n",
    "for i in List1:\n",
    "    sum=sum+i\n",
    "print(sum)"
   ]
  }
 ],
 "metadata": {
  "kernelspec": {
   "display_name": "Python 3 (ipykernel)",
   "language": "python",
   "name": "python3"
  },
  "language_info": {
   "codemirror_mode": {
    "name": "ipython",
    "version": 3
   },
   "file_extension": ".py",
   "mimetype": "text/x-python",
   "name": "python",
   "nbconvert_exporter": "python",
   "pygments_lexer": "ipython3",
   "version": "3.11.4"
  }
 },
 "nbformat": 4,
 "nbformat_minor": 5
}
